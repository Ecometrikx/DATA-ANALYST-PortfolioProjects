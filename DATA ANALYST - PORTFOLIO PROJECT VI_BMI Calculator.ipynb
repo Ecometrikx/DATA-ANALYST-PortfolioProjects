{
 "cells": [
  {
   "cell_type": "markdown",
   "id": "518fcd1a-8196-457a-a6c3-415909f0d1ac",
   "metadata": {},
   "source": [
    "# DATA ANALYST - PORTFOLIO PROJECT VI: BMI CALCULATOR\n",
    "\n",
    "BMI = x KG / (y M * y M)\n",
    "\n",
    "BMI = Body Weight in Kilogram / (height in Meter x height in Meter)\n",
    "\n",
    "*AGE NOT CONSIDERED\n",
    "\n",
    "--------------------------------------------------------------------------------------------------------------------------------------------------------\n",
    "\n",
    "REFERENCE VALUES:\n",
    "\n",
    "< 16 -> Critical Underweight (54,8 kg)\n",
    "\n",
    "16 - 18,5 -> Underweight (54,8 - 63,3 kg)\n",
    "\n",
    "18,5 - 25 -> Normal Weight (63,3 - 85,6 kg)\n",
    "\n",
    "25 - 30 -> Lightly Overweight (85,6 - 102,7 kg)\n",
    "\n",
    "over 30 -> Overweight (102,7 kg)\n",
    "\n",
    "--------------------------------------------------------------------------------------------------------------------------------------------------------\n",
    "-> https://www.bmi3d.de/formel.html\n",
    "\n",
    "-> https://www.tk.de/service/app/2002866/bmirechner/bmirechner.app?tkcm=ab\n"
   ]
  },
  {
   "cell_type": "code",
   "execution_count": 42,
   "id": "d5598156-64cd-4e15-b7b5-56aa45c521bc",
   "metadata": {},
   "outputs": [
    {
     "name": "stdin",
     "output_type": "stream",
     "text": [
      "Enter your Name:  Cindy aus Marzahn\n",
      "Enter your Age:  26\n",
      "Enter your Weight in Kilograms:  75\n",
      "Enter your Height in Meter:  1.70\n"
     ]
    },
    {
     "name": "stdout",
     "output_type": "stream",
     "text": [
      "25.95155709342561\n",
      "Cindy aus Marzahn, you are Lightly Overweight\n"
     ]
    }
   ],
   "source": [
    "name = input(\"Enter your Name: \")\n",
    "\n",
    "age = input(\"Enter your Age: \")\n",
    "\n",
    "weight = int(input(\"Enter your Weight in Kilograms: \"))\n",
    "\n",
    "height = float(input(\"Enter your Height in Meter: \"))\n",
    "\n",
    "BMI = weight / (height * height)\n",
    "\n",
    "print(BMI)\n",
    "\n",
    "if BMI > 0:\n",
    "    if(BMI < 16):\n",
    "        print(name +\", you have Critical Underweight\")\n",
    "    elif(16 <= BMI < 18.5):\n",
    "        print(name + \", you are Underweight\")\n",
    "    elif(18.5 <= BMI < 25):\n",
    "        print(name +\", you have Normal Weight\")\n",
    "    elif(25 <= BMI <= 30):\n",
    "        print(name +\", you are Lightly Overweight\")\n",
    "    elif(BMI > 30):\n",
    "        print(name +\", you have Overweight\")\n",
    "    else:\n",
    "        print(name +\" , you are Critically Overweight\")"
   ]
  },
  {
   "cell_type": "code",
   "execution_count": null,
   "id": "de7a5d6d-362e-460c-a87e-5764eb988eb9",
   "metadata": {},
   "outputs": [],
   "source": []
  },
  {
   "cell_type": "code",
   "execution_count": null,
   "id": "be71cfc2-e80c-4314-a463-e6e36c000e15",
   "metadata": {},
   "outputs": [],
   "source": []
  },
  {
   "cell_type": "code",
   "execution_count": null,
   "id": "082193e4-f58a-4593-969d-f48d125bac02",
   "metadata": {},
   "outputs": [],
   "source": []
  },
  {
   "cell_type": "code",
   "execution_count": null,
   "id": "afafd0ce-ad0d-4588-8f42-71f3a7d900ee",
   "metadata": {},
   "outputs": [],
   "source": []
  },
  {
   "cell_type": "code",
   "execution_count": null,
   "id": "38e3d018-7a1d-420a-8334-41254a012a11",
   "metadata": {},
   "outputs": [],
   "source": []
  }
 ],
 "metadata": {
  "kernelspec": {
   "display_name": "Python 3 (ipykernel)",
   "language": "python",
   "name": "python3"
  },
  "language_info": {
   "codemirror_mode": {
    "name": "ipython",
    "version": 3
   },
   "file_extension": ".py",
   "mimetype": "text/x-python",
   "name": "python",
   "nbconvert_exporter": "python",
   "pygments_lexer": "ipython3",
   "version": "3.12.7"
  }
 },
 "nbformat": 4,
 "nbformat_minor": 5
}
