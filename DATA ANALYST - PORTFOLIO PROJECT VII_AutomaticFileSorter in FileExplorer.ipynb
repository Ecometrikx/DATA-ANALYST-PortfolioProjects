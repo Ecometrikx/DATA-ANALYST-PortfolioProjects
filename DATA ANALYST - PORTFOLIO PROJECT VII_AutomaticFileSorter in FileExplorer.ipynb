{
 "cells": [
  {
   "cell_type": "markdown",
   "id": "59d426a7-6171-43a6-85cd-5aa034e12850",
   "metadata": {},
   "source": [
    "# AUTOMATIC FILE SORTER IN FILE EXPLORER"
   ]
  },
  {
   "cell_type": "code",
   "execution_count": 31,
   "id": "1a54f9e4-a07e-486b-8350-2f672cec8a39",
   "metadata": {},
   "outputs": [],
   "source": [
    "import os, shutil"
   ]
  },
  {
   "cell_type": "code",
   "execution_count": 33,
   "id": "103ecb9d-ca4a-4beb-8b71-e63d15c7865e",
   "metadata": {},
   "outputs": [],
   "source": [
    "path = r\"C:/Users/olive/Desktop/DATA ANALYST TRAINING/Python/\""
   ]
  },
  {
   "cell_type": "code",
   "execution_count": 35,
   "id": "1734f47e-7945-40da-8577-4ed81c5edb49",
   "metadata": {},
   "outputs": [],
   "source": [
    "file_name = os.listdir(path)"
   ]
  },
  {
   "cell_type": "code",
   "execution_count": 37,
   "id": "72171c6d-2e45-4af4-8b36-0bc62d7bff76",
   "metadata": {},
   "outputs": [],
   "source": [
    "folder_names = ['DataSets', 'ImageFiles', 'PythonProjects']\n",
    "\n",
    "for loop in range(0,3):\n",
    "    if not os.path.exists(path + folder_names[loop]):\n",
    "        os.makedirs((path + folder_names[loop]))\n",
    "\n",
    "for file in file_name:\n",
    "    if \".csv\" in file and not os.path.exists(path + \"DataSets/\" + file):\n",
    "        shutil.move(path + file, path + \"DataSets/\" + file)\n",
    "    elif \".png\" in file and not os.path.exists(path + \"ImageFiles/\" + file):\n",
    "        shutil.move(path + file, path + \"ImageFiles/\" + file)\n",
    "    elif \".ipynb\" in file and not os.path.exists(path + \"PythonProjects/\" + file):\n",
    "        shutil.move(path + file, path + \"PythonProjects/\" + file)"
   ]
  },
  {
   "cell_type": "code",
   "execution_count": null,
   "id": "65a39728-6155-4571-9346-57b868afa10d",
   "metadata": {},
   "outputs": [],
   "source": []
  },
  {
   "cell_type": "code",
   "execution_count": null,
   "id": "2da42d0c-be46-45a4-9897-c1b1c7cf148a",
   "metadata": {},
   "outputs": [],
   "source": []
  },
  {
   "cell_type": "code",
   "execution_count": null,
   "id": "aa51351f-3331-4264-864d-bb7214b91a12",
   "metadata": {},
   "outputs": [],
   "source": []
  },
  {
   "cell_type": "code",
   "execution_count": null,
   "id": "1c9522cd-1802-466e-9adb-9eb4352922ec",
   "metadata": {},
   "outputs": [],
   "source": []
  },
  {
   "cell_type": "code",
   "execution_count": null,
   "id": "33bc77b0-f384-481e-aca0-ec1c1dd47338",
   "metadata": {},
   "outputs": [],
   "source": []
  }
 ],
 "metadata": {
  "kernelspec": {
   "display_name": "Python 3 (ipykernel)",
   "language": "python",
   "name": "python3"
  },
  "language_info": {
   "codemirror_mode": {
    "name": "ipython",
    "version": 3
   },
   "file_extension": ".py",
   "mimetype": "text/x-python",
   "name": "python",
   "nbconvert_exporter": "python",
   "pygments_lexer": "ipython3",
   "version": "3.12.7"
  }
 },
 "nbformat": 4,
 "nbformat_minor": 5
}
