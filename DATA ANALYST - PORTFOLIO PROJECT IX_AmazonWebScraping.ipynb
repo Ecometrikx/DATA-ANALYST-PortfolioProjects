{
 "cells": [
  {
   "cell_type": "markdown",
   "id": "53334d0e-2754-46b7-ba88-d402b2187cb6",
   "metadata": {},
   "source": [
    "# DATA ANALYST PORTFOLIO PROJECT IX: AMAZON WEB SCRAPING WITH PYTHON\n",
    "------------------------------------------------------------------------------------------------------------------------------------------------------\n",
    "\n",
    "https://www.amazon.de/Got-Data-MIS-Business-Analyst/dp/B09F32Q8J8/ref=sr_1_10?__mk_de_DE=%C3%85M%C3%85%C5%BD%C3%95%C3%91&crid=2WJIWO89LEYW2&dib=eyJ2IjoiMSJ9.xBL0HQ1_t1o-cIxnOYsS6tHbnupCDVvEyE4JzEGFxPs1rSRosakwmVpu85wk-rgk6G8HLZp4QzAho-gJiIiKnJxKnuP_4CGXLkCNjlgqhss4oZ0If0TpGGq1FQc6f86CvtOqmkIi-D61NWogS1S0lOpOjJJXpn3Z1i9WUu-Ml13zCT7YQWD7raiZaom08gtdOIWt_Nj0xNcwoCmKoTL1TRV1uB-_NnwvTDBjinKlEDmE54j68q_SjrKHdYco421DK2vFUbxlhQZB3fRZXpkULXUFL-xYsh4vJ9tYy0Z45x6PSWbjTFSFnUZQB8F0ipconSC9O9rQgggNGF1qBg322uKm9L8T4zQ7SuI_0TES-XHFYaWD1qzl2SnA6Xc8tn-Aw3qBOINpkuA4Mb8f2n9oOsi7yHHsCgLCAntq1nBLWKLfOlH2qXpRmt3BpHVJTkY4.t-2rCpv4_EwBrzrRwp2yXXp3Sl30XHtzHquP1P_vSB0&dib_tag=se&keywords=data%2Banalyst%2Btshirt&qid=1742910048&sprefix=data%2Banalyst%2Btshirt%2Caps%2C218&sr=8-10\n",
    "\n",
    "--------------------------------------------------------------------------------------------------------------------------------------------------------\n",
    "\n",
    "SMTPLIB: The smtplib module in Python provides a built-in way to send emails using the Simple Mail Transfer Protocol (SMTP). It allows you to connect \n",
    "         to an SMTP server and send email messages programmatically.\n",
    "\n",
    "Key Features:\n",
    "\n",
    "1. Email Sending: Easily compose and send emails using SMTP.\n",
    "2. Server Integration: Connect to various SMTP servers (e.g., Gmail, Outlook) for sending mail.\n",
    "3. Authentication: Supports basic authentication methods, which is essential for sending emails securely.\n",
    "\n",
    "Common Functions: \n",
    "\n",
    "1. smtplib.SMTP(): Create an SMTP client session object.\n",
    "2. login(): Authenticate the client with the server.\n",
    "3. sendmail(): Send an email message to one or more recipients.\n",
    "4. quit(): Terminate the SMTP session.\n",
    "\n",
    "--------------------------------------------------------------------------------------------------------------------------------------------------------\n",
    "\n",
    "TIME: The time module in Python provides various time-related functions to work with time and sleep operations. It allows for the manipulation of \n",
    "      time values and the measurement of time intervals.\n",
    "\n",
    "Key Features:\n",
    "\n",
    "1. Timestamp Retrieval: Get the current time in seconds since the epoch.\n",
    "2. Sleep Functionality: Introduce delays in code execution.\n",
    "3. Time Formatting: Format time values into human-readable formats.\n",
    "\n",
    "Common Functions:\n",
    "\n",
    "1. time.time(): Returns the current time in seconds since the epoch (Unix time).\n",
    "2. time.sleep(seconds): Delays execution for the specified number of seconds.\n",
    "3. time.strftime(format, t): Converts a time tuple or a time object to a string according to a specified format.\n",
    "\n",
    "--------------------------------------------------------------------------------------------------------------------------------------------------------\n",
    "\n",
    "DATETIME: The datetime module in Python provides classes for manipulating dates and times. It allows for the representation of date and time in both simple and complex ways.\n",
    "\n",
    "Key Features:\n",
    "\n",
    "1. Date and Time Arithmetic: Perform arithmetic on dates and times, such as adding or subtracting days.\n",
    "2. Variations: Includes classes for date, time, and datetime, enabling flexible operations.\n",
    "3. Formatting: Easily format date and time objects into readable strings.\n",
    "\n",
    "Common Functions & Classes:\n",
    "\n",
    "1. datetime.datetime: Represents both date and time.\n",
    "2. datetime.date: Represents the date (year, month, day).\n",
    "3. datetime.time: Represents the time (hour, minute, second).\n",
    "4. now(): Returns the current date and time.\n",
    "5. strptime(): Parses a string into a datetime object according to a specified format.\n",
    "6. strftime(): Formats a datetime object into a string according to a specified format.\n",
    "\n",
    "--------------------------------------------------------------------------------------------------------------------------------------------------------\n",
    "\n",
    "SUMMARY: \n",
    "\n",
    "1. smtplib: A module for sending emails using SMTP, offering functions for email composition, sending, and server interaction.\n",
    "2. time: A module providing functions for time manipulation, including getting timestamps, sleeping, and formatting time values.\n",
    "3. datetime: A module for manipulating dates and times, offering classes for date, time, and datetime along with methods for formatted output and date \n",
    "   arithmetic.\n",
    "   \n",
    "--------------------------------------------------------------------------------------------------------------------------------------------------------"
   ]
  },
  {
   "cell_type": "code",
   "execution_count": 5,
   "id": "f236cbb9",
   "metadata": {},
   "outputs": [],
   "source": [
    "# import libraries \n",
    "\n",
    "from bs4 import BeautifulSoup\n",
    "import requests\n",
    "import time\n",
    "import datetime\n",
    "\n",
    "import smtplib\n"
   ]
  },
  {
   "cell_type": "code",
   "execution_count": 21,
   "id": "9b531b61",
   "metadata": {},
   "outputs": [
    {
     "name": "stdout",
     "output_type": "stream",
     "text": [
      "\n",
      "                    Funny Got Data Business Analyst für MIS Data Systems T-Shirt\n",
      "                   \n",
      "\n",
      "\n",
      "\n",
      "\n",
      "\n",
      "\n",
      "\n",
      "\n",
      "\n",
      "\n",
      "                              Herren Große Größen\n",
      "                             \n",
      "\n",
      "\n",
      "\n",
      "\n",
      "\n",
      "\n",
      "\n",
      "\n",
      "\n",
      "\n",
      "\n",
      "\n",
      "\n"
     ]
    }
   ],
   "source": [
    "# Connect to Website and pull in data\n",
    "\n",
    "URL = 'https://www.amazon.de/Got-Data-MIS-Business-Analyst/dp/B09F32Q8J8/ref=sr_1_10?__mk_de_DE=%C3%85M%C3%85%C5%BD%C3%95%C3%91&crid=2WJIWO89LEYW2&dib=eyJ2IjoiMSJ9.xBL0HQ1_t1o-cIxnOYsS6tHbnupCDVvEyE4JzEGFxPs1rSRosakwmVpu85wk-rgk6G8HLZp4QzAho-gJiIiKnJxKnuP_4CGXLkCNjlgqhss4oZ0If0TpGGq1FQc6f86CvtOqmkIi-D61NWogS1S0lOpOjJJXpn3Z1i9WUu-Ml13zCT7YQWD7raiZaom08gtdOIWt_Nj0xNcwoCmKoTL1TRV1uB-_NnwvTDBjinKlEDmE54j68q_SjrKHdYco421DK2vFUbxlhQZB3fRZXpkULXUFL-xYsh4vJ9tYy0Z45x6PSWbjTFSFnUZQB8F0ipconSC9O9rQgggNGF1qBg322uKm9L8T4zQ7SuI_0TES-XHFYaWD1qzl2SnA6Xc8tn-Aw3qBOINpkuA4Mb8f2n9oOsi7yHHsCgLCAntq1nBLWKLfOlH2qXpRmt3BpHVJTkY4.t-2rCpv4_EwBrzrRwp2yXXp3Sl30XHtzHquP1P_vSB0&dib_tag=se&keywords=data%2Banalyst%2Btshirt&qid=1742910048&sprefix=data%2Banalyst%2Btshirt%2Caps%2C218&sr=8-10'\n",
    "\n",
    "headers = {\"User-Agent\": \"Mozilla/5.0 (Windows NT 10.0; Win64; x64) AppleWebKit/537.36 (KHTML, like Gecko) Chrome/134.0.0.0 Safari/537.36\", \"X-Amzn-Trace-Id\": \"Root=1-67e2bd38-17e8a4e21148ab10003b9703\"}\n",
    "\n",
    "page = requests.get(URL, headers=headers)\n",
    "\n",
    "soup1 = BeautifulSoup(page.content, \"html.parser\")\n",
    "\n",
    "soup2 = BeautifulSoup(soup1.prettify(), \"html.parser\")\n",
    "\n",
    "title = soup2.find(id='productTitle').get_text()\n",
    "\n",
    "sizes = soup2.find(id='fit_type_1').get_text()\n",
    "\n",
    "\n",
    "print(title)\n",
    "print(sizes)"
   ]
  },
  {
   "cell_type": "code",
   "execution_count": 31,
   "id": "b6f7d66e",
   "metadata": {},
   "outputs": [
    {
     "name": "stdout",
     "output_type": "stream",
     "text": [
      "Funny Got Data Business Analyst für MIS Data Systems T-Shirt\n",
      "Große Größen\n"
     ]
    }
   ],
   "source": [
    "# Clean up the data a little bit\n",
    "\n",
    "sizes = sizes.strip()[6:]\n",
    "title = title.strip()\n",
    "\n",
    "print(title)\n",
    "print(sizes)"
   ]
  },
  {
   "cell_type": "code",
   "execution_count": 25,
   "id": "4f021c23",
   "metadata": {},
   "outputs": [
    {
     "name": "stdout",
     "output_type": "stream",
     "text": [
      "2025-03-25\n"
     ]
    }
   ],
   "source": [
    "# Create a Timestamp for your output to track when data was collected\n",
    "\n",
    "import datetime\n",
    "\n",
    "today = datetime.date.today()\n",
    "\n",
    "print(today)\n"
   ]
  },
  {
   "cell_type": "code",
   "execution_count": 49,
   "id": "14d703ca",
   "metadata": {},
   "outputs": [],
   "source": [
    "# Create CSV and write headers and data into the file\n",
    "\n",
    "import csv \n",
    "\n",
    "header = ['Title', 'Sizes', 'Date']\n",
    "data = [title, sizes, today]\n",
    "\n",
    "\n",
    "with open('C:/Users/olive/Desktop/DATA ANALYST TRAINING/Python/AmazonWebScraperDataset.csv', 'w', newline='', encoding='UTF8') as f:\n",
    "    writer = csv.writer(f)\n",
    "    writer.writerow(header)\n",
    "    writer.writerow(data)\n"
   ]
  },
  {
   "cell_type": "code",
   "execution_count": 51,
   "id": "d07eeb86",
   "metadata": {},
   "outputs": [
    {
     "name": "stdout",
     "output_type": "stream",
     "text": [
      "                                               Title         Sizes        Date\n",
      "0  Funny Got Data Business Analyst für MIS Data S...  Große Größen  2025-03-25\n"
     ]
    }
   ],
   "source": [
    "import pandas as pd\n",
    "\n",
    "df = pd.read_csv(r'C:\\Users\\olive\\Desktop\\DATA ANALYST TRAINING\\Python\\AmazonWebScraperDataset.csv')\n",
    "\n",
    "print(df)\n"
   ]
  },
  {
   "cell_type": "code",
   "execution_count": 53,
   "id": "6b05c1eb",
   "metadata": {},
   "outputs": [],
   "source": [
    "#Now we are appending data to the csv\n",
    "\n",
    "with open('AmazonWebScraperDataset.csv', 'a+', newline='', encoding='UTF8') as f:\n",
    "    writer = csv.writer(f)\n",
    "    writer.writerow(data)"
   ]
  },
  {
   "cell_type": "code",
   "execution_count": 55,
   "id": "8e95b9e0",
   "metadata": {},
   "outputs": [],
   "source": [
    "#Combine all of the above code into one function\n",
    "\n",
    "\n",
    "def check_price():\n",
    "    URL = 'https://www.amazon.de/Got-Data-MIS-Business-Analyst/dp/B09F32Q8J8/ref=sr_1_10?__mk_de_DE=%C3%85M%C3%85%C5%BD%C3%95%C3%91&crid=2WJIWO89LEYW2&dib=eyJ2IjoiMSJ9.xBL0HQ1_t1o-cIxnOYsS6tHbnupCDVvEyE4JzEGFxPs1rSRosakwmVpu85wk-rgk6G8HLZp4QzAho-gJiIiKnJxKnuP_4CGXLkCNjlgqhss4oZ0If0TpGGq1FQc6f86CvtOqmkIi-D61NWogS1S0lOpOjJJXpn3Z1i9WUu-Ml13zCT7YQWD7raiZaom08gtdOIWt_Nj0xNcwoCmKoTL1TRV1uB-_NnwvTDBjinKlEDmE54j68q_SjrKHdYco421DK2vFUbxlhQZB3fRZXpkULXUFL-xYsh4vJ9tYy0Z45x6PSWbjTFSFnUZQB8F0ipconSC9O9rQgggNGF1qBg322uKm9L8T4zQ7SuI_0TES-XHFYaWD1qzl2SnA6Xc8tn-Aw3qBOINpkuA4Mb8f2n9oOsi7yHHsCgLCAntq1nBLWKLfOlH2qXpRmt3BpHVJTkY4.t-2rCpv4_EwBrzrRwp2yXXp3Sl30XHtzHquP1P_vSB0&dib_tag=se&keywords=data%2Banalyst%2Btshirt&qid=1742910048&sprefix=data%2Banalyst%2Btshirt%2Caps%2C218&sr=8-10&customId=B07536XX75&customizationToken=MC_Assembly_1%23B07536XX75&th=1'\n",
    "\n",
    "    headers = {\"User-Agent\": \"Mozilla/5.0 (Windows NT 10.0; Win64; x64) AppleWebKit/537.36 (KHTML, like Gecko) Chrome/134.0.0.0 Safari/537.36\", \"X-Amzn-Trace-Id\": \"Root=1-67e2bd38-17e8a4e21148ab10003b9703\"}\n",
    "\n",
    "    page = requests.get(URL, headers=headers)\n",
    "\n",
    "    soup1 = BeautifulSoup(page.content, \"html.parser\")\n",
    "\n",
    "    soup2 = BeautifulSoup(soup1.prettify(), \"html.parser\")\n",
    "\n",
    "    title = soup2.find(id='productTitle').get_text()\n",
    "\n",
    "    sizes = soup2.find(id='fit_type_1').get_text()\n",
    "\n",
    "\n",
    "    sizes = sizes.strip()[6:]\n",
    "    title = title.strip()\n",
    "\n",
    "    import datetime\n",
    "\n",
    "    today = datetime.date.today()\n",
    "    \n",
    "    import csv \n",
    "\n",
    "    header = ['Title', 'Price', 'Date']\n",
    "    data = [title, price, today]\n",
    "\n",
    "    with open('AmazonWebScraperDataset.csv', 'a+', newline='', encoding='UTF8') as f:\n",
    "        writer = csv.writer(f)\n",
    "        writer.writerow(data)\n",
    " \n",
    "    "
   ]
  },
  {
   "cell_type": "code",
   "execution_count": null,
   "id": "9b7dd037-0ad4-4a7a-b87e-5c25ccce7a26",
   "metadata": {},
   "outputs": [],
   "source": [
    "# Runs check_price after a set time and inputs data into your CSV\n",
    "\n",
    "while(True):\n",
    "    check_price()\n",
    "    time.sleep(86400)"
   ]
  },
  {
   "cell_type": "code",
   "execution_count": 61,
   "id": "00af7126",
   "metadata": {},
   "outputs": [
    {
     "name": "stdout",
     "output_type": "stream",
     "text": [
      "                                               Title         Sizes        Date\n",
      "0  Funny Got Data Business Analyst für MIS Data S...  Große Größen  2025-03-25\n"
     ]
    }
   ],
   "source": [
    "import pandas as pd\n",
    "\n",
    "df = pd.read_csv(r'C:\\Users\\olive\\Desktop\\DATA ANALYST TRAINING\\Python\\AmazonWebScraperDataset.csv')\n",
    "\n",
    "print(df)"
   ]
  },
  {
   "cell_type": "code",
   "execution_count": null,
   "id": "d14fce5f",
   "metadata": {},
   "outputs": [],
   "source": [
    "# If you want to try sending yourself an email (just for fun) when a price hits below a certain level you can try it\n",
    "# out with this script\n",
    "\n",
    "def send_mail():\n",
    "    server = smtplib.SMTP_SSL('smtp.gmail.com',465)\n",
    "    server.ehlo()\n",
    "    #server.starttls()\n",
    "    server.ehlo()\n",
    "    server.login('oliverhorstmann78@gmail.com','xxxxxxxxxxxxxx')\n",
    "    \n",
    "    subject = \"The Shirt you want is below $15! Now is your chance to buy!\"\n",
    "    body = \"Oliver, This is the moment we have been waiting for. Now is your chance to pick up the shirt of your dreams. Don't mess it up! Link here: https://www.amazon.de/Got-Data-MIS-Business-Analyst/dp/B09F32Q8J8/ref=sr_1_10?__mk_de_DE=%C3%85M%C3%85%C5%BD%C3%95%C3%91&crid=2WJIWO89LEYW2&dib=eyJ2IjoiMSJ9.xBL0HQ1_t1o-cIxnOYsS6tHbnupCDVvEyE4JzEGFxPs1rSRosakwmVpu85wk-rgk6G8HLZp4QzAho-gJiIiKnJxKnuP_4CGXLkCNjlgqhss4oZ0If0TpGGq1FQc6f86CvtOqmkIi-D61NWogS1S0lOpOjJJXpn3Z1i9WUu-Ml13zCT7YQWD7raiZaom08gtdOIWt_Nj0xNcwoCmKoTL1TRV1uB-_NnwvTDBjinKlEDmE54j68q_SjrKHdYco421DK2vFUbxlhQZB3fRZXpkULXUFL-xYsh4vJ9tYy0Z45x6PSWbjTFSFnUZQB8F0ipconSC9O9rQgggNGF1qBg322uKm9L8T4zQ7SuI_0TES-XHFYaWD1qzl2SnA6Xc8tn-Aw3qBOINpkuA4Mb8f2n9oOsi7yHHsCgLCAntq1nBLWKLfOlH2qXpRmt3BpHVJTkY4.t-2rCpv4_EwBrzrRwp2yXXp3Sl30XHtzHquP1P_vSB0&dib_tag=se&keywords=data%2Banalyst%2Btshirt&qid=1742910048&sprefix=data%2Banalyst%2Btshirt%2Caps%2C218&sr=8-10&customId=B07536XX75&customizationToken=MC_Assembly_1%23B07536XX75&th=1\n",
    "   \n",
    "    msg = f\"Subject: {subject}\\n\\n{body}\"\n",
    "    \n",
    "    server. sendmail(\n",
    "        'oliverhorstmann78@gmail@gmail.com',\n",
    "        msg\n",
    "     \n",
    "    )"
   ]
  }
 ],
 "metadata": {
  "kernelspec": {
   "display_name": "Python 3 (ipykernel)",
   "language": "python",
   "name": "python3"
  },
  "language_info": {
   "codemirror_mode": {
    "name": "ipython",
    "version": 3
   },
   "file_extension": ".py",
   "mimetype": "text/x-python",
   "name": "python",
   "nbconvert_exporter": "python",
   "pygments_lexer": "ipython3",
   "version": "3.12.7"
  }
 },
 "nbformat": 4,
 "nbformat_minor": 5
}
